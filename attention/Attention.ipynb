{
  "nbformat": 4,
  "nbformat_minor": 0,
  "metadata": {
    "colab": {
      "provenance": []
    },
    "kernelspec": {
      "name": "python3",
      "display_name": "Python 3"
    },
    "language_info": {
      "name": "python"
    }
  },
  "cells": [
    {
      "cell_type": "code",
      "execution_count": null,
      "metadata": {
        "id": "7Re547q0aWyx"
      },
      "outputs": [],
      "source": [
        "import torch\n",
        "import torchvision\n",
        "import torch.nn as nn\n",
        "import numpy as np"
      ]
    },
    {
      "cell_type": "code",
      "source": [
        "class SelfAttention:\n",
        "  def __init__(self,X,W_qkv,mask,W_out):\n",
        "    self.X = X\n",
        "    self.W_qkv = W_qkv\n",
        "    self.mask = mask\n",
        "    self.W_out = W_out\n",
        "\n",
        "  def provideAttention(self):\n",
        "    # X -> b * T * d\n",
        "    # W_qkv ->  (3*d) * d\n",
        "    # mask -> T * T\n",
        "    # W_out -> T * d\n",
        "    d = X.shape[-1]\n",
        "    print(self.W_qkv.shape)\n",
        "    W_k,W_q,W_v =torch.split(self.W_qkv,[d,d,d],dim=0) # d * d\n",
        "    print(W_k.shape)\n",
        "\n",
        "    K = torch.matmul(self.X,W_k.T) # b * T * d\n",
        "\n",
        "    Q = torch.transpose(torch.matmul(self.X,W_q.T),-2,-1) # b * d * T\n",
        "\n",
        "    V = torch.matmul(self.X,W_v.T) # b * T * d\n",
        "\n",
        "    out = torch.matmul(K,Q) / np.sqrt(d) # T * T\n",
        "    out = out + self.mask # T * T\n",
        "    print(out.shape)\n",
        "    softmax = nn.Softmax(dim=-1)\n",
        "    out = softmax(out) # T * T\n",
        "    atten = out\n",
        "    out = out@V@self.W_out  # T * T\n",
        "    # out = out@self.W_out\n",
        "    return out, atten"
      ],
      "metadata": {
        "id": "gkF4v9yOab4Z"
      },
      "execution_count": null,
      "outputs": []
    },
    {
      "cell_type": "code",
      "source": [
        "b, T, d = 50, 100 , 64\n",
        "torch_attn = nn.MultiheadAttention(d,4,bias=False,batch_first=True)\n",
        "Mask = torch.triu(-float(\"inf\")*torch.ones(T,T),1)\n",
        "X = torch.rand(b,T,d)\n",
        "Y_ , A_ = torch_attn(X,X,X,attn_mask=Mask)"
      ],
      "metadata": {
        "id": "1GEz1dm5ab1h"
      },
      "execution_count": null,
      "outputs": []
    },
    {
      "cell_type": "code",
      "source": [
        "attn = SelfAttention(X,\n",
        "                     torch_attn.in_proj_weight,\n",
        "                     Mask,\n",
        "                     torch_attn.out_proj.weight.T)\n",
        "Y, A = attn.provideAttention()"
      ],
      "metadata": {
        "colab": {
          "base_uri": "https://localhost:8080/"
        },
        "id": "_2s-aLauabw0",
        "outputId": "55d047d7-36e7-4b3c-8178-7a88cf751c7e"
      },
      "execution_count": null,
      "outputs": [
        {
          "output_type": "stream",
          "name": "stdout",
          "text": [
            "torch.Size([192, 64])\n",
            "torch.Size([64, 64])\n",
            "torch.Size([50, 100, 100])\n"
          ]
        }
      ]
    },
    {
      "cell_type": "markdown",
      "source": [],
      "metadata": {
        "id": "emmK9CNaxtb7"
      }
    },
    {
      "cell_type": "code",
      "source": [
        "torch.norm(Y-Y_)"
      ],
      "metadata": {
        "colab": {
          "base_uri": "https://localhost:8080/"
        },
        "id": "jZrHT5wCabuP",
        "outputId": "7215adc1-b2ea-44b2-8286-0930fbb1447d"
      },
      "execution_count": null,
      "outputs": [
        {
          "output_type": "execute_result",
          "data": {
            "text/plain": [
              "tensor(0., grad_fn=<LinalgVectorNormBackward0>)"
            ]
          },
          "metadata": {},
          "execution_count": 176
        }
      ]
    },
    {
      "cell_type": "code",
      "source": [
        "class MultiheadAttention:\n",
        "  def __init__(self,X,h,W_qkv,mask,W_out):\n",
        "    self.X = X\n",
        "    self.h = h\n",
        "    self.W_qkv = W_qkv.T\n",
        "    self.mask = mask\n",
        "    self.W_out = W_out\n",
        "\n",
        "  def provideAttention(self):\n",
        "    # X -> b * T * d\n",
        "    # W_qkv ->  d * (3*d)\n",
        "    # mask -> T * T\n",
        "    # W_out -> d * d\n",
        "    b,T,d = X.shape\n",
        "    h = self.h\n",
        "    temp = self.X@self.W_qkv\n",
        "    temp = torch.split(temp,[d,d,d],dim=-1) # d * d\n",
        "    # print(type(torch.reshape(temp[0],(b,T,h,int(d/h)))))\n",
        "    K = torch.swapaxes(torch.reshape(temp[0],(b,T,h,int(d/h))),1,2)\n",
        "    Q = torch.swapaxes(torch.reshape(temp[1],(b,T,h,int(d/h))),1,2)\n",
        "    V = torch.swapaxes(torch.reshape(temp[2],(b,T,h,int(d/h))),1,2)\n",
        "    softmax = nn.Softmax(dim=-1)\n",
        "    atten = softmax( torch.matmul(K, torch.swapaxes(Q,-1,-2)) / np.sqrt(d/h) + self.mask)\n",
        "    # out = torch.matmul(K,Q) / np.sqrt(d) # T * T\n",
        "    # out = out + self.mask # T * T\n",
        "    # print(out.shape)\n",
        "    # out = softmax(out) # T * T\n",
        "    # atten = out\n",
        "    # out = out@V@self.W_out  # T * T\n",
        "    # # out = out@self.W_out\n",
        "    return torch.reshape(torch.swapaxes(atten@V,1,2),(b,T,d))@self.W_out, atten"
      ],
      "metadata": {
        "id": "KGa1txDQabrr"
      },
      "execution_count": null,
      "outputs": []
    },
    {
      "cell_type": "code",
      "source": [
        "attn = MultiheadAttention(X,4,\n",
        "                     torch_attn.in_proj_weight,\n",
        "                     Mask,\n",
        "                     torch_attn.out_proj.weight.T)\n",
        "Y, A = attn.provideAttention()"
      ],
      "metadata": {
        "id": "Z1QiHWNrabpR",
        "colab": {
          "base_uri": "https://localhost:8080/"
        },
        "outputId": "02813a83-5493-493c-ca89-adbdc2ce462e"
      },
      "execution_count": null,
      "outputs": [
        {
          "output_type": "stream",
          "name": "stdout",
          "text": [
            "<class 'torch.Tensor'>\n"
          ]
        }
      ]
    },
    {
      "cell_type": "code",
      "source": [
        "torch.norm(Y-Y_)"
      ],
      "metadata": {
        "id": "HnvC4saoabms",
        "colab": {
          "base_uri": "https://localhost:8080/"
        },
        "outputId": "45987f7e-d7d8-4f17-a388-229c97551d68"
      },
      "execution_count": null,
      "outputs": [
        {
          "output_type": "execute_result",
          "data": {
            "text/plain": [
              "tensor(0., grad_fn=<LinalgVectorNormBackward0>)"
            ]
          },
          "metadata": {},
          "execution_count": 236
        }
      ]
    },
    {
      "cell_type": "code",
      "source": [],
      "metadata": {
        "id": "igs1MV5Mabkl"
      },
      "execution_count": null,
      "outputs": []
    },
    {
      "cell_type": "code",
      "source": [],
      "metadata": {
        "id": "IPl6ErRTabiB"
      },
      "execution_count": null,
      "outputs": []
    },
    {
      "cell_type": "code",
      "source": [],
      "metadata": {
        "id": "vzAjqXJRabfa"
      },
      "execution_count": null,
      "outputs": []
    },
    {
      "cell_type": "code",
      "source": [],
      "metadata": {
        "id": "uezcVwUaabdW"
      },
      "execution_count": null,
      "outputs": []
    },
    {
      "cell_type": "code",
      "source": [],
      "metadata": {
        "id": "HTLnQvNvabau"
      },
      "execution_count": null,
      "outputs": []
    },
    {
      "cell_type": "code",
      "source": [],
      "metadata": {
        "id": "HdGSAM1UabYW"
      },
      "execution_count": null,
      "outputs": []
    },
    {
      "cell_type": "code",
      "source": [],
      "metadata": {
        "id": "P4WQkbNSabWA"
      },
      "execution_count": null,
      "outputs": []
    },
    {
      "cell_type": "code",
      "source": [],
      "metadata": {
        "id": "OevyQqNtabTY"
      },
      "execution_count": null,
      "outputs": []
    },
    {
      "cell_type": "code",
      "source": [],
      "metadata": {
        "id": "9pw1hw4tabRV"
      },
      "execution_count": null,
      "outputs": []
    },
    {
      "cell_type": "code",
      "source": [],
      "metadata": {
        "id": "EMqwp_unabOu"
      },
      "execution_count": null,
      "outputs": []
    },
    {
      "cell_type": "code",
      "source": [],
      "metadata": {
        "id": "1MfERsNvabMY"
      },
      "execution_count": null,
      "outputs": []
    },
    {
      "cell_type": "code",
      "source": [],
      "metadata": {
        "id": "dc28t5EcabKD"
      },
      "execution_count": null,
      "outputs": []
    },
    {
      "cell_type": "code",
      "source": [],
      "metadata": {
        "id": "Ufy-eA3mabH9"
      },
      "execution_count": null,
      "outputs": []
    },
    {
      "cell_type": "code",
      "source": [],
      "metadata": {
        "id": "C3RebQHdabFW"
      },
      "execution_count": null,
      "outputs": []
    },
    {
      "cell_type": "code",
      "source": [],
      "metadata": {
        "id": "SXc0CYzUabCv"
      },
      "execution_count": null,
      "outputs": []
    },
    {
      "cell_type": "code",
      "source": [],
      "metadata": {
        "id": "2wP9wTQKabAq"
      },
      "execution_count": null,
      "outputs": []
    },
    {
      "cell_type": "code",
      "source": [],
      "metadata": {
        "id": "md67TD0_aa-S"
      },
      "execution_count": null,
      "outputs": []
    },
    {
      "cell_type": "code",
      "source": [],
      "metadata": {
        "id": "VT3nGQr_aa7-"
      },
      "execution_count": null,
      "outputs": []
    },
    {
      "cell_type": "code",
      "source": [],
      "metadata": {
        "id": "QyBBZH2Raa54"
      },
      "execution_count": null,
      "outputs": []
    },
    {
      "cell_type": "code",
      "source": [],
      "metadata": {
        "id": "Xw6HRSKJaa3z"
      },
      "execution_count": null,
      "outputs": []
    }
  ]
}